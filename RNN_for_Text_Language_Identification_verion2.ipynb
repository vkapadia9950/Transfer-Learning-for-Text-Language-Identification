{
  "nbformat": 4,
  "nbformat_minor": 0,
  "metadata": {
    "accelerator": "GPU",
    "colab": {
      "name": "RNN for Text Language Identification verion2.ipynb",
      "provenance": [],
      "collapsed_sections": []
    },
    "kernelspec": {
      "display_name": "Python 3",
      "name": "python3"
    },
    "language_info": {
      "name": "python"
    }
  },
  "cells": [
    {
      "cell_type": "markdown",
      "metadata": {
        "id": "FjJSy2b8EEOk"
      },
      "source": [
        "# **Text Language Identification**\n",
        "\n",
        "Identification of language of given text is done by State of the Art RNN Models such Long Short Term Memory(LSTM Model) and Gated Recurrent Unit(GRU Model)\n",
        " \n"
      ]
    },
    {
      "cell_type": "code",
      "metadata": {
        "id": "SVdaWntFCXyi"
      },
      "source": [
        "#Importing Necessary Libraries\n",
        "import pandas as pd\n",
        "import numpy as np\n",
        "import matplotlib.pyplot as plt\n",
        "from sklearn.model_selection import train_test_split"
      ],
      "execution_count": 3,
      "outputs": []
    },
    {
      "cell_type": "markdown",
      "metadata": {
        "id": "D0TCTBGlFAVD"
      },
      "source": [
        "**DATA EXPLORATION**"
      ]
    },
    {
      "cell_type": "code",
      "metadata": {
        "id": "MuI37klnFJOV"
      },
      "source": [
        "#Loading the Data\n",
        "raw = pd.read_csv('dataset.csv')"
      ],
      "execution_count": 4,
      "outputs": []
    },
    {
      "cell_type": "code",
      "metadata": {
        "id": "kXW76BclGA8I"
      },
      "source": [
        "#Manually encoding the labels of language and considering it as the labels for training\n",
        "languages = list(raw['language'].unique())\n",
        "l = []\n",
        "for i in range(raw.shape[0]):\n",
        "  l.append(languages.index(raw['language'][i]))\n",
        "raw['nlanguage'] = l"
      ],
      "execution_count": 5,
      "outputs": []
    },
    {
      "cell_type": "code",
      "metadata": {
        "id": "kvb-Owrlireo",
        "colab": {
          "base_uri": "https://localhost:8080/",
          "height": 204
        },
        "outputId": "27e916f9-338d-4ea2-9f2a-d545dd1dd9d5"
      },
      "source": [
        "raw.head()"
      ],
      "execution_count": 6,
      "outputs": [
        {
          "output_type": "execute_result",
          "data": {
            "text/html": [
              "<div>\n",
              "<style scoped>\n",
              "    .dataframe tbody tr th:only-of-type {\n",
              "        vertical-align: middle;\n",
              "    }\n",
              "\n",
              "    .dataframe tbody tr th {\n",
              "        vertical-align: top;\n",
              "    }\n",
              "\n",
              "    .dataframe thead th {\n",
              "        text-align: right;\n",
              "    }\n",
              "</style>\n",
              "<table border=\"1\" class=\"dataframe\">\n",
              "  <thead>\n",
              "    <tr style=\"text-align: right;\">\n",
              "      <th></th>\n",
              "      <th>Text</th>\n",
              "      <th>language</th>\n",
              "      <th>nlanguage</th>\n",
              "    </tr>\n",
              "  </thead>\n",
              "  <tbody>\n",
              "    <tr>\n",
              "      <th>0</th>\n",
              "      <td>klement gottwaldi surnukeha palsameeriti ning ...</td>\n",
              "      <td>Estonian</td>\n",
              "      <td>0</td>\n",
              "    </tr>\n",
              "    <tr>\n",
              "      <th>1</th>\n",
              "      <td>sebes joseph pereira thomas  på eng the jesuit...</td>\n",
              "      <td>Swedish</td>\n",
              "      <td>1</td>\n",
              "    </tr>\n",
              "    <tr>\n",
              "      <th>2</th>\n",
              "      <td>ถนนเจริญกรุง อักษรโรมัน thanon charoen krung เ...</td>\n",
              "      <td>Thai</td>\n",
              "      <td>2</td>\n",
              "    </tr>\n",
              "    <tr>\n",
              "      <th>3</th>\n",
              "      <td>விசாகப்பட்டினம் தமிழ்ச்சங்கத்தை இந்துப் பத்திர...</td>\n",
              "      <td>Tamil</td>\n",
              "      <td>3</td>\n",
              "    </tr>\n",
              "    <tr>\n",
              "      <th>4</th>\n",
              "      <td>de spons behoort tot het geslacht haliclona en...</td>\n",
              "      <td>Dutch</td>\n",
              "      <td>4</td>\n",
              "    </tr>\n",
              "  </tbody>\n",
              "</table>\n",
              "</div>"
            ],
            "text/plain": [
              "                                                Text  language  nlanguage\n",
              "0  klement gottwaldi surnukeha palsameeriti ning ...  Estonian          0\n",
              "1  sebes joseph pereira thomas  på eng the jesuit...   Swedish          1\n",
              "2  ถนนเจริญกรุง อักษรโรมัน thanon charoen krung เ...      Thai          2\n",
              "3  விசாகப்பட்டினம் தமிழ்ச்சங்கத்தை இந்துப் பத்திர...     Tamil          3\n",
              "4  de spons behoort tot het geslacht haliclona en...     Dutch          4"
            ]
          },
          "metadata": {
            "tags": []
          },
          "execution_count": 6
        }
      ]
    },
    {
      "cell_type": "markdown",
      "metadata": {
        "id": "fMKH1gNlZaIp"
      },
      "source": [
        "**EXPLORATORY DATA ANALYSIS**"
      ]
    },
    {
      "cell_type": "code",
      "metadata": {
        "id": "afJxbCj4g23F"
      },
      "source": [
        "#Merging 2 Labels files for EDA\n",
        "EDA = raw.drop([\"Text\"],axis=1)\n"
      ],
      "execution_count": 7,
      "outputs": []
    },
    {
      "cell_type": "code",
      "metadata": {
        "colab": {
          "base_uri": "https://localhost:8080/",
          "height": 502
        },
        "id": "ljEyMBOhGY45",
        "outputId": "7fe7e8ac-b8be-46c8-98b3-e25912de23a5"
      },
      "source": [
        "#Class Distribution\n",
        "class_df = EDA.groupby('language').count()['nlanguage'].reset_index().sort_values(by='nlanguage',ascending=False)\n",
        "class_df.style.background_gradient(cmap='PiYG')"
      ],
      "execution_count": 8,
      "outputs": [
        {
          "output_type": "execute_result",
          "data": {
            "text/html": [
              "<style  type=\"text/css\" >\n",
              "#T_20a54f7e_aad4_11eb_9d06_0242ac1c0002row0_col1,#T_20a54f7e_aad4_11eb_9d06_0242ac1c0002row1_col1,#T_20a54f7e_aad4_11eb_9d06_0242ac1c0002row2_col1,#T_20a54f7e_aad4_11eb_9d06_0242ac1c0002row3_col1,#T_20a54f7e_aad4_11eb_9d06_0242ac1c0002row4_col1,#T_20a54f7e_aad4_11eb_9d06_0242ac1c0002row5_col1,#T_20a54f7e_aad4_11eb_9d06_0242ac1c0002row6_col1,#T_20a54f7e_aad4_11eb_9d06_0242ac1c0002row7_col1,#T_20a54f7e_aad4_11eb_9d06_0242ac1c0002row8_col1,#T_20a54f7e_aad4_11eb_9d06_0242ac1c0002row9_col1,#T_20a54f7e_aad4_11eb_9d06_0242ac1c0002row10_col1,#T_20a54f7e_aad4_11eb_9d06_0242ac1c0002row11_col1,#T_20a54f7e_aad4_11eb_9d06_0242ac1c0002row12_col1,#T_20a54f7e_aad4_11eb_9d06_0242ac1c0002row13_col1,#T_20a54f7e_aad4_11eb_9d06_0242ac1c0002row14_col1,#T_20a54f7e_aad4_11eb_9d06_0242ac1c0002row15_col1,#T_20a54f7e_aad4_11eb_9d06_0242ac1c0002row16_col1,#T_20a54f7e_aad4_11eb_9d06_0242ac1c0002row17_col1,#T_20a54f7e_aad4_11eb_9d06_0242ac1c0002row18_col1,#T_20a54f7e_aad4_11eb_9d06_0242ac1c0002row19_col1,#T_20a54f7e_aad4_11eb_9d06_0242ac1c0002row20_col1,#T_20a54f7e_aad4_11eb_9d06_0242ac1c0002row21_col1{\n",
              "            background-color:  #8e0152;\n",
              "            color:  #f1f1f1;\n",
              "        }</style><table id=\"T_20a54f7e_aad4_11eb_9d06_0242ac1c0002\" ><thead>    <tr>        <th class=\"blank level0\" ></th>        <th class=\"col_heading level0 col0\" >language</th>        <th class=\"col_heading level0 col1\" >nlanguage</th>    </tr></thead><tbody>\n",
              "                <tr>\n",
              "                        <th id=\"T_20a54f7e_aad4_11eb_9d06_0242ac1c0002level0_row0\" class=\"row_heading level0 row0\" >0</th>\n",
              "                        <td id=\"T_20a54f7e_aad4_11eb_9d06_0242ac1c0002row0_col0\" class=\"data row0 col0\" >Arabic</td>\n",
              "                        <td id=\"T_20a54f7e_aad4_11eb_9d06_0242ac1c0002row0_col1\" class=\"data row0 col1\" >1000</td>\n",
              "            </tr>\n",
              "            <tr>\n",
              "                        <th id=\"T_20a54f7e_aad4_11eb_9d06_0242ac1c0002level0_row1\" class=\"row_heading level0 row1\" >1</th>\n",
              "                        <td id=\"T_20a54f7e_aad4_11eb_9d06_0242ac1c0002row1_col0\" class=\"data row1 col0\" >Chinese</td>\n",
              "                        <td id=\"T_20a54f7e_aad4_11eb_9d06_0242ac1c0002row1_col1\" class=\"data row1 col1\" >1000</td>\n",
              "            </tr>\n",
              "            <tr>\n",
              "                        <th id=\"T_20a54f7e_aad4_11eb_9d06_0242ac1c0002level0_row2\" class=\"row_heading level0 row2\" >20</th>\n",
              "                        <td id=\"T_20a54f7e_aad4_11eb_9d06_0242ac1c0002row2_col0\" class=\"data row2 col0\" >Turkish</td>\n",
              "                        <td id=\"T_20a54f7e_aad4_11eb_9d06_0242ac1c0002row2_col1\" class=\"data row2 col1\" >1000</td>\n",
              "            </tr>\n",
              "            <tr>\n",
              "                        <th id=\"T_20a54f7e_aad4_11eb_9d06_0242ac1c0002level0_row3\" class=\"row_heading level0 row3\" >19</th>\n",
              "                        <td id=\"T_20a54f7e_aad4_11eb_9d06_0242ac1c0002row3_col0\" class=\"data row3 col0\" >Thai</td>\n",
              "                        <td id=\"T_20a54f7e_aad4_11eb_9d06_0242ac1c0002row3_col1\" class=\"data row3 col1\" >1000</td>\n",
              "            </tr>\n",
              "            <tr>\n",
              "                        <th id=\"T_20a54f7e_aad4_11eb_9d06_0242ac1c0002level0_row4\" class=\"row_heading level0 row4\" >18</th>\n",
              "                        <td id=\"T_20a54f7e_aad4_11eb_9d06_0242ac1c0002row4_col0\" class=\"data row4 col0\" >Tamil</td>\n",
              "                        <td id=\"T_20a54f7e_aad4_11eb_9d06_0242ac1c0002row4_col1\" class=\"data row4 col1\" >1000</td>\n",
              "            </tr>\n",
              "            <tr>\n",
              "                        <th id=\"T_20a54f7e_aad4_11eb_9d06_0242ac1c0002level0_row5\" class=\"row_heading level0 row5\" >17</th>\n",
              "                        <td id=\"T_20a54f7e_aad4_11eb_9d06_0242ac1c0002row5_col0\" class=\"data row5 col0\" >Swedish</td>\n",
              "                        <td id=\"T_20a54f7e_aad4_11eb_9d06_0242ac1c0002row5_col1\" class=\"data row5 col1\" >1000</td>\n",
              "            </tr>\n",
              "            <tr>\n",
              "                        <th id=\"T_20a54f7e_aad4_11eb_9d06_0242ac1c0002level0_row6\" class=\"row_heading level0 row6\" >16</th>\n",
              "                        <td id=\"T_20a54f7e_aad4_11eb_9d06_0242ac1c0002row6_col0\" class=\"data row6 col0\" >Spanish</td>\n",
              "                        <td id=\"T_20a54f7e_aad4_11eb_9d06_0242ac1c0002row6_col1\" class=\"data row6 col1\" >1000</td>\n",
              "            </tr>\n",
              "            <tr>\n",
              "                        <th id=\"T_20a54f7e_aad4_11eb_9d06_0242ac1c0002level0_row7\" class=\"row_heading level0 row7\" >15</th>\n",
              "                        <td id=\"T_20a54f7e_aad4_11eb_9d06_0242ac1c0002row7_col0\" class=\"data row7 col0\" >Russian</td>\n",
              "                        <td id=\"T_20a54f7e_aad4_11eb_9d06_0242ac1c0002row7_col1\" class=\"data row7 col1\" >1000</td>\n",
              "            </tr>\n",
              "            <tr>\n",
              "                        <th id=\"T_20a54f7e_aad4_11eb_9d06_0242ac1c0002level0_row8\" class=\"row_heading level0 row8\" >14</th>\n",
              "                        <td id=\"T_20a54f7e_aad4_11eb_9d06_0242ac1c0002row8_col0\" class=\"data row8 col0\" >Romanian</td>\n",
              "                        <td id=\"T_20a54f7e_aad4_11eb_9d06_0242ac1c0002row8_col1\" class=\"data row8 col1\" >1000</td>\n",
              "            </tr>\n",
              "            <tr>\n",
              "                        <th id=\"T_20a54f7e_aad4_11eb_9d06_0242ac1c0002level0_row9\" class=\"row_heading level0 row9\" >13</th>\n",
              "                        <td id=\"T_20a54f7e_aad4_11eb_9d06_0242ac1c0002row9_col0\" class=\"data row9 col0\" >Pushto</td>\n",
              "                        <td id=\"T_20a54f7e_aad4_11eb_9d06_0242ac1c0002row9_col1\" class=\"data row9 col1\" >1000</td>\n",
              "            </tr>\n",
              "            <tr>\n",
              "                        <th id=\"T_20a54f7e_aad4_11eb_9d06_0242ac1c0002level0_row10\" class=\"row_heading level0 row10\" >12</th>\n",
              "                        <td id=\"T_20a54f7e_aad4_11eb_9d06_0242ac1c0002row10_col0\" class=\"data row10 col0\" >Portugese</td>\n",
              "                        <td id=\"T_20a54f7e_aad4_11eb_9d06_0242ac1c0002row10_col1\" class=\"data row10 col1\" >1000</td>\n",
              "            </tr>\n",
              "            <tr>\n",
              "                        <th id=\"T_20a54f7e_aad4_11eb_9d06_0242ac1c0002level0_row11\" class=\"row_heading level0 row11\" >11</th>\n",
              "                        <td id=\"T_20a54f7e_aad4_11eb_9d06_0242ac1c0002row11_col0\" class=\"data row11 col0\" >Persian</td>\n",
              "                        <td id=\"T_20a54f7e_aad4_11eb_9d06_0242ac1c0002row11_col1\" class=\"data row11 col1\" >1000</td>\n",
              "            </tr>\n",
              "            <tr>\n",
              "                        <th id=\"T_20a54f7e_aad4_11eb_9d06_0242ac1c0002level0_row12\" class=\"row_heading level0 row12\" >10</th>\n",
              "                        <td id=\"T_20a54f7e_aad4_11eb_9d06_0242ac1c0002row12_col0\" class=\"data row12 col0\" >Latin</td>\n",
              "                        <td id=\"T_20a54f7e_aad4_11eb_9d06_0242ac1c0002row12_col1\" class=\"data row12 col1\" >1000</td>\n",
              "            </tr>\n",
              "            <tr>\n",
              "                        <th id=\"T_20a54f7e_aad4_11eb_9d06_0242ac1c0002level0_row13\" class=\"row_heading level0 row13\" >9</th>\n",
              "                        <td id=\"T_20a54f7e_aad4_11eb_9d06_0242ac1c0002row13_col0\" class=\"data row13 col0\" >Korean</td>\n",
              "                        <td id=\"T_20a54f7e_aad4_11eb_9d06_0242ac1c0002row13_col1\" class=\"data row13 col1\" >1000</td>\n",
              "            </tr>\n",
              "            <tr>\n",
              "                        <th id=\"T_20a54f7e_aad4_11eb_9d06_0242ac1c0002level0_row14\" class=\"row_heading level0 row14\" >8</th>\n",
              "                        <td id=\"T_20a54f7e_aad4_11eb_9d06_0242ac1c0002row14_col0\" class=\"data row14 col0\" >Japanese</td>\n",
              "                        <td id=\"T_20a54f7e_aad4_11eb_9d06_0242ac1c0002row14_col1\" class=\"data row14 col1\" >1000</td>\n",
              "            </tr>\n",
              "            <tr>\n",
              "                        <th id=\"T_20a54f7e_aad4_11eb_9d06_0242ac1c0002level0_row15\" class=\"row_heading level0 row15\" >7</th>\n",
              "                        <td id=\"T_20a54f7e_aad4_11eb_9d06_0242ac1c0002row15_col0\" class=\"data row15 col0\" >Indonesian</td>\n",
              "                        <td id=\"T_20a54f7e_aad4_11eb_9d06_0242ac1c0002row15_col1\" class=\"data row15 col1\" >1000</td>\n",
              "            </tr>\n",
              "            <tr>\n",
              "                        <th id=\"T_20a54f7e_aad4_11eb_9d06_0242ac1c0002level0_row16\" class=\"row_heading level0 row16\" >6</th>\n",
              "                        <td id=\"T_20a54f7e_aad4_11eb_9d06_0242ac1c0002row16_col0\" class=\"data row16 col0\" >Hindi</td>\n",
              "                        <td id=\"T_20a54f7e_aad4_11eb_9d06_0242ac1c0002row16_col1\" class=\"data row16 col1\" >1000</td>\n",
              "            </tr>\n",
              "            <tr>\n",
              "                        <th id=\"T_20a54f7e_aad4_11eb_9d06_0242ac1c0002level0_row17\" class=\"row_heading level0 row17\" >5</th>\n",
              "                        <td id=\"T_20a54f7e_aad4_11eb_9d06_0242ac1c0002row17_col0\" class=\"data row17 col0\" >French</td>\n",
              "                        <td id=\"T_20a54f7e_aad4_11eb_9d06_0242ac1c0002row17_col1\" class=\"data row17 col1\" >1000</td>\n",
              "            </tr>\n",
              "            <tr>\n",
              "                        <th id=\"T_20a54f7e_aad4_11eb_9d06_0242ac1c0002level0_row18\" class=\"row_heading level0 row18\" >4</th>\n",
              "                        <td id=\"T_20a54f7e_aad4_11eb_9d06_0242ac1c0002row18_col0\" class=\"data row18 col0\" >Estonian</td>\n",
              "                        <td id=\"T_20a54f7e_aad4_11eb_9d06_0242ac1c0002row18_col1\" class=\"data row18 col1\" >1000</td>\n",
              "            </tr>\n",
              "            <tr>\n",
              "                        <th id=\"T_20a54f7e_aad4_11eb_9d06_0242ac1c0002level0_row19\" class=\"row_heading level0 row19\" >3</th>\n",
              "                        <td id=\"T_20a54f7e_aad4_11eb_9d06_0242ac1c0002row19_col0\" class=\"data row19 col0\" >English</td>\n",
              "                        <td id=\"T_20a54f7e_aad4_11eb_9d06_0242ac1c0002row19_col1\" class=\"data row19 col1\" >1000</td>\n",
              "            </tr>\n",
              "            <tr>\n",
              "                        <th id=\"T_20a54f7e_aad4_11eb_9d06_0242ac1c0002level0_row20\" class=\"row_heading level0 row20\" >2</th>\n",
              "                        <td id=\"T_20a54f7e_aad4_11eb_9d06_0242ac1c0002row20_col0\" class=\"data row20 col0\" >Dutch</td>\n",
              "                        <td id=\"T_20a54f7e_aad4_11eb_9d06_0242ac1c0002row20_col1\" class=\"data row20 col1\" >1000</td>\n",
              "            </tr>\n",
              "            <tr>\n",
              "                        <th id=\"T_20a54f7e_aad4_11eb_9d06_0242ac1c0002level0_row21\" class=\"row_heading level0 row21\" >21</th>\n",
              "                        <td id=\"T_20a54f7e_aad4_11eb_9d06_0242ac1c0002row21_col0\" class=\"data row21 col0\" >Urdu</td>\n",
              "                        <td id=\"T_20a54f7e_aad4_11eb_9d06_0242ac1c0002row21_col1\" class=\"data row21 col1\" >1000</td>\n",
              "            </tr>\n",
              "    </tbody></table>"
            ],
            "text/plain": [
              "<pandas.io.formats.style.Styler at 0x7fd264d6ebd0>"
            ]
          },
          "metadata": {
            "tags": []
          },
          "execution_count": 8
        }
      ]
    },
    {
      "cell_type": "markdown",
      "metadata": {
        "id": "vVYu2ZNzcMFt"
      },
      "source": [
        "# **DATA PREPROCESSING**\n",
        "Tokenizing the text data"
      ]
    },
    {
      "cell_type": "code",
      "metadata": {
        "id": "4rthQwfDdZw9"
      },
      "source": [
        "#Importing Necessary Libraries for Text Processing\n",
        "\n",
        "from keras.preprocessing import text, sequence\n",
        "from sklearn.metrics import classification_report,confusion_matrix,accuracy_score\n",
        "from sklearn.model_selection import train_test_split\n",
        "import keras\n",
        "from keras.models import Sequential\n",
        "import tensorflow as tf\n",
        "from tensorflow.keras.preprocessing.text import Tokenizer\n",
        "from tensorflow.keras.preprocessing.sequence import pad_sequences\n"
      ],
      "execution_count": 9,
      "outputs": []
    },
    {
      "cell_type": "code",
      "metadata": {
        "id": "Y_zBKkqu5md8"
      },
      "source": [
        "#Splitting the Data set into Dependent and Independent Features\n",
        "X=raw['Text']\n",
        "y=raw['nlanguage']"
      ],
      "execution_count": 10,
      "outputs": []
    },
    {
      "cell_type": "code",
      "metadata": {
        "colab": {
          "base_uri": "https://localhost:8080/"
        },
        "id": "4ZJbgmR4xSq6",
        "outputId": "edab34db-7906-44de-fdbb-669b12f47a65"
      },
      "source": [
        "#Maximum Length of Sequence\n",
        "max_len = np.max(X.apply(lambda x :len(x)))\n",
        "print(\"Maximum length of sequence:\",max_len)"
      ],
      "execution_count": 11,
      "outputs": [
        {
          "output_type": "stream",
          "text": [
            "Maximum length of sequence: 1341\n"
          ],
          "name": "stdout"
        }
      ]
    },
    {
      "cell_type": "code",
      "metadata": {
        "colab": {
          "base_uri": "https://localhost:8080/"
        },
        "id": "tBreavpAvDlg",
        "outputId": "225ece69-e35f-4d2e-c1aa-bed51db3b4ad"
      },
      "source": [
        "#Initializing Tokens\n",
        "tokenizer = Tokenizer()\n",
        "\n",
        "#Text to Sequence\n",
        "tokenizer.fit_on_texts(X)\n",
        "vocab_length = len(tokenizer.word_index)+1\n",
        "print(\"Length of Word Index:\",vocab_length)\n",
        "X = tokenizer.texts_to_sequences(X)\n",
        "\n",
        "#Post Padding\n",
        "X = pad_sequences(X,maxlen=max_len, padding='post')"
      ],
      "execution_count": 12,
      "outputs": [
        {
          "output_type": "stream",
          "text": [
            "Length of Word Index: 273968\n"
          ],
          "name": "stdout"
        }
      ]
    },
    {
      "cell_type": "code",
      "metadata": {
        "colab": {
          "base_uri": "https://localhost:8080/"
        },
        "id": "Wdn1yWHmhoKW",
        "outputId": "c0e9ba14-46c0-49e3-d572-12c17f280622"
      },
      "source": [
        "#Array of Text Tokens\n",
        "X"
      ],
      "execution_count": 13,
      "outputs": [
        {
          "output_type": "execute_result",
          "data": {
            "text/plain": [
              "array([[ 32328,  96397,  14738, ...,      0,      0,      0],\n",
              "       [ 96411,   3149,  22200, ...,      0,      0,      0],\n",
              "       [ 58287,  58288,  58289, ...,      0,      0,      0],\n",
              "       ...,\n",
              "       [   118,  11675,      1, ...,      0,      0,      0],\n",
              "       [273960, 273961,     16, ...,      0,      0,      0],\n",
              "       [  3012,  21731,  57498, ...,      0,      0,      0]], dtype=int32)"
            ]
          },
          "metadata": {
            "tags": []
          },
          "execution_count": 13
        }
      ]
    },
    {
      "cell_type": "code",
      "metadata": {
        "colab": {
          "base_uri": "https://localhost:8080/"
        },
        "id": "4r7FU05yqVvN",
        "outputId": "ca24e9fc-dd0b-4aab-81af-df3ee1a5abd4"
      },
      "source": [
        "#Shape of X\n",
        "X.shape"
      ],
      "execution_count": 14,
      "outputs": [
        {
          "output_type": "execute_result",
          "data": {
            "text/plain": [
              "(22000, 1341)"
            ]
          },
          "metadata": {
            "tags": []
          },
          "execution_count": 14
        }
      ]
    },
    {
      "cell_type": "markdown",
      "metadata": {
        "id": "xU4dONvZCsTv"
      },
      "source": [
        "# **State of the Art Model**\n",
        "Implementing 2 State of the Art Model of RNN for NLP task GRU and LSTM "
      ]
    },
    {
      "cell_type": "code",
      "metadata": {
        "id": "gspl7iozpI0R"
      },
      "source": [
        "#Performing Test-Train-Valid Split in the dataset\n",
        "from sklearn.model_selection import train_test_split\n",
        "X_train, X_test, y_train, y_test = train_test_split(X, y, test_size = 0.20, shuffle=True, random_state = 42)\n",
        "X_val, X_test, y_val, y_test = train_test_split(X_test, y_test, test_size=0.50, random_state=42)"
      ],
      "execution_count": 15,
      "outputs": []
    },
    {
      "cell_type": "code",
      "metadata": {
        "colab": {
          "base_uri": "https://localhost:8080/"
        },
        "id": "aDN_NwbVrlXP",
        "outputId": "83bc5077-18e6-48d9-dff0-69c8f1821203"
      },
      "source": [
        "#Shape of the Training and Testing Data\n",
        "X_train.shape, X_test.shape,  y_train.shape, y_test.shape #,y_val.shape,X_val.shape"
      ],
      "execution_count": 16,
      "outputs": [
        {
          "output_type": "execute_result",
          "data": {
            "text/plain": [
              "((17600, 1341), (2200, 1341), (17600,), (2200,))"
            ]
          },
          "metadata": {
            "tags": []
          },
          "execution_count": 16
        }
      ]
    },
    {
      "cell_type": "code",
      "metadata": {
        "id": "ukfB1z3AoUam"
      },
      "source": [
        "#Dimension of Embedding\n",
        "embedding_dim = 32"
      ],
      "execution_count": 17,
      "outputs": []
    },
    {
      "cell_type": "markdown",
      "metadata": {
        "id": "ZRiNJpaa2QxF"
      },
      "source": [
        "**RECURRENT NEURAL NET: GRU LAYER**"
      ]
    },
    {
      "cell_type": "code",
      "metadata": {
        "colab": {
          "base_uri": "https://localhost:8080/"
        },
        "id": "KWfztyeh0pcJ",
        "outputId": "2c4e8a78-74e6-4cd9-9850-e75b0ab9a9ce"
      },
      "source": [
        "model = tf.keras.Sequential([\n",
        "    tf.keras.layers.Embedding(vocab_length, embedding_dim, input_length=max_len),\n",
        "    tf.keras.layers.Bidirectional(tf.keras.layers.GRU(256, return_sequences=True)),\n",
        "    #tf.keras.layers.Bidirectional(tf.keras.layers.GRU(64, return_sequences=True)),\n",
        "    tf.keras.layers.GlobalAveragePooling1D(),\n",
        "    tf.keras.layers.Dense(64, activation='relu'),\n",
        "    #tf.keras.layers.Dropout(0.4),\n",
        "    tf.keras.layers.Dense(22, activation='softmax')\n",
        "])\n",
        "#Model Summary of GRU Layer Architecture\n",
        "model.summary()"
      ],
      "execution_count": 18,
      "outputs": [
        {
          "output_type": "stream",
          "text": [
            "Model: \"sequential\"\n",
            "_________________________________________________________________\n",
            "Layer (type)                 Output Shape              Param #   \n",
            "=================================================================\n",
            "embedding (Embedding)        (None, 1341, 32)          8766976   \n",
            "_________________________________________________________________\n",
            "bidirectional (Bidirectional (None, 1341, 512)         445440    \n",
            "_________________________________________________________________\n",
            "global_average_pooling1d (Gl (None, 512)               0         \n",
            "_________________________________________________________________\n",
            "dense (Dense)                (None, 64)                32832     \n",
            "_________________________________________________________________\n",
            "dense_1 (Dense)              (None, 22)                1430      \n",
            "=================================================================\n",
            "Total params: 9,246,678\n",
            "Trainable params: 9,246,678\n",
            "Non-trainable params: 0\n",
            "_________________________________________________________________\n"
          ],
          "name": "stdout"
        }
      ]
    },
    {
      "cell_type": "code",
      "metadata": {
        "id": "OiFmeJ7D03p2"
      },
      "source": [
        "# GRU Model Compilation \n",
        "from tensorflow.keras.callbacks import EarlyStopping\n",
        "from tensorflow.keras.optimizers import Adam\n",
        "opt = Adam(lr=0.001)\n",
        "model.compile(optimizer=opt,\n",
        "               loss=tf.keras.losses.SparseCategoricalCrossentropy(from_logits=True),\n",
        "               metrics=[\"accuracy\"])"
      ],
      "execution_count": 19,
      "outputs": []
    },
    {
      "cell_type": "code",
      "metadata": {
        "colab": {
          "base_uri": "https://localhost:8080/"
        },
        "id": "ffTHFtEm1KgN",
        "outputId": "ff3c7b48-8290-416e-b12a-f276583f9280"
      },
      "source": [
        "#Fitting the Model\n",
        "gru=model.fit(X_train, y_train,\n",
        "               callbacks=[EarlyStopping(monitor='val_loss', mode='min' , verbose =1, patience = 2)],\n",
        "          validation_data=(X_test,y_test),\n",
        "          epochs=10)"
      ],
      "execution_count": 20,
      "outputs": [
        {
          "output_type": "stream",
          "text": [
            "Epoch 1/10\n",
            "550/550 [==============================] - 145s 203ms/step - loss: 3.0164 - accuracy: 0.0619 - val_loss: 2.0884 - val_accuracy: 0.3936\n",
            "Epoch 2/10\n",
            "550/550 [==============================] - 111s 202ms/step - loss: 2.2096 - accuracy: 0.5487 - val_loss: 0.2947 - val_accuracy: 0.9141\n",
            "Epoch 3/10\n",
            "550/550 [==============================] - 111s 202ms/step - loss: 0.3174 - accuracy: 0.9019 - val_loss: 0.2744 - val_accuracy: 0.9136\n",
            "Epoch 4/10\n",
            "550/550 [==============================] - 111s 202ms/step - loss: 0.1554 - accuracy: 0.9465 - val_loss: 0.2552 - val_accuracy: 0.9155\n",
            "Epoch 5/10\n",
            "550/550 [==============================] - 111s 201ms/step - loss: 0.0709 - accuracy: 0.9815 - val_loss: 0.3386 - val_accuracy: 0.9059\n",
            "Epoch 6/10\n",
            "550/550 [==============================] - 111s 201ms/step - loss: 0.0358 - accuracy: 0.9926 - val_loss: 0.5169 - val_accuracy: 0.9073\n",
            "Epoch 00006: early stopping\n"
          ],
          "name": "stdout"
        }
      ]
    },
    {
      "cell_type": "markdown",
      "metadata": {
        "id": "oWXk81hRl0Ee"
      },
      "source": [
        "**RECURRENT NEURAL NETWORK : LSTM LAYER**"
      ]
    },
    {
      "cell_type": "code",
      "metadata": {
        "colab": {
          "base_uri": "https://localhost:8080/"
        },
        "id": "c7wQFsO6lzyh",
        "outputId": "85340168-67cf-4e9d-cfae-b25ebb06240f"
      },
      "source": [
        "model2 = tf.keras.Sequential([\n",
        "    tf.keras.layers.Embedding(vocab_length, embedding_dim, input_length=max_len),\n",
        "    tf.keras.layers.Bidirectional(tf.keras.layers.LSTM(256,  return_sequences=True)),\n",
        "    tf.keras.layers.Bidirectional(tf.keras.layers.LSTM(128, return_sequences=False)),\n",
        "    tf.keras.layers.Dense(64, activation='relu'),\n",
        "    #tf.keras.layers.Dropout(0.5),\n",
        "    tf.keras.layers.Dense(22, activation='softmax')\n",
        "])\n",
        "#Model Summary of LSTM Layer Architecture\n",
        "model2.summary()"
      ],
      "execution_count": 21,
      "outputs": [
        {
          "output_type": "stream",
          "text": [
            "Model: \"sequential_1\"\n",
            "_________________________________________________________________\n",
            "Layer (type)                 Output Shape              Param #   \n",
            "=================================================================\n",
            "embedding_1 (Embedding)      (None, 1341, 32)          8766976   \n",
            "_________________________________________________________________\n",
            "bidirectional_1 (Bidirection (None, 1341, 512)         591872    \n",
            "_________________________________________________________________\n",
            "bidirectional_2 (Bidirection (None, 256)               656384    \n",
            "_________________________________________________________________\n",
            "dense_2 (Dense)              (None, 64)                16448     \n",
            "_________________________________________________________________\n",
            "dense_3 (Dense)              (None, 22)                1430      \n",
            "=================================================================\n",
            "Total params: 10,033,110\n",
            "Trainable params: 10,033,110\n",
            "Non-trainable params: 0\n",
            "_________________________________________________________________\n"
          ],
          "name": "stdout"
        }
      ]
    },
    {
      "cell_type": "code",
      "metadata": {
        "id": "PqJo8lMclzgy"
      },
      "source": [
        "#LSTM Model Compilation \n",
        "from tensorflow.keras.callbacks import EarlyStopping\n",
        "from tensorflow.keras.optimizers import Adam\n",
        "opt = Adam(lr=0.001)\n",
        "model2.compile(optimizer=opt,\n",
        "               loss=tf.keras.losses.SparseCategoricalCrossentropy(from_logits=True),\n",
        "               metrics=[\"accuracy\"])"
      ],
      "execution_count": 22,
      "outputs": []
    },
    {
      "cell_type": "code",
      "metadata": {
        "colab": {
          "base_uri": "https://localhost:8080/"
        },
        "id": "i2d4epCXlzO8",
        "outputId": "cf3cd774-f169-49b5-e19a-08ca0c3185d0"
      },
      "source": [
        "#Fitting the Model\n",
        "lstm=model2.fit(X_train, y_train,\n",
        "               callbacks=[EarlyStopping(monitor='val_loss', mode='min' , verbose =1, patience = 2)],\n",
        "          validation_data=(X_test,y_test),\n",
        "          epochs=10)"
      ],
      "execution_count": 23,
      "outputs": [
        {
          "output_type": "stream",
          "text": [
            "Epoch 1/10\n",
            "550/550 [==============================] - 195s 347ms/step - loss: 2.0367 - accuracy: 0.3198 - val_loss: 0.4928 - val_accuracy: 0.8627\n",
            "Epoch 2/10\n",
            "550/550 [==============================] - 190s 346ms/step - loss: 0.4490 - accuracy: 0.8503 - val_loss: 0.3069 - val_accuracy: 0.9014\n",
            "Epoch 3/10\n",
            "550/550 [==============================] - 190s 345ms/step - loss: 0.1458 - accuracy: 0.9597 - val_loss: 0.3075 - val_accuracy: 0.9059\n",
            "Epoch 4/10\n",
            "550/550 [==============================] - 190s 346ms/step - loss: 0.0438 - accuracy: 0.9891 - val_loss: 0.2819 - val_accuracy: 0.9195\n",
            "Epoch 5/10\n",
            "550/550 [==============================] - 190s 346ms/step - loss: 0.0248 - accuracy: 0.9936 - val_loss: 0.3201 - val_accuracy: 0.9209\n",
            "Epoch 6/10\n",
            "550/550 [==============================] - 191s 347ms/step - loss: 0.0121 - accuracy: 0.9968 - val_loss: 0.3434 - val_accuracy: 0.9182\n",
            "Epoch 00006: early stopping\n"
          ],
          "name": "stdout"
        }
      ]
    },
    {
      "cell_type": "markdown",
      "metadata": {
        "id": "146ag8i_13UU"
      },
      "source": [
        "# **MODEL EVALUATION**\n",
        "Calculating Accuracy, Confusion Matrix, F1-score(micro), F1-score(macro), Precision for each model "
      ]
    },
    {
      "cell_type": "markdown",
      "metadata": {
        "id": "xTtt4v49Mfbb"
      },
      "source": [
        "**Prediction on Test Data**"
      ]
    },
    {
      "cell_type": "code",
      "metadata": {
        "colab": {
          "base_uri": "https://localhost:8080/"
        },
        "id": "eYZ5FU5227qQ",
        "outputId": "4b9d2962-dd82-4b5f-fd26-5d21314dff51"
      },
      "source": [
        "#Making Prediction for GRU model\n",
        "pred_gru = model.predict_classes(X_test)"
      ],
      "execution_count": 24,
      "outputs": [
        {
          "output_type": "stream",
          "text": [
            "/usr/local/lib/python3.7/dist-packages/tensorflow/python/keras/engine/sequential.py:450: UserWarning: `model.predict_classes()` is deprecated and will be removed after 2021-01-01. Please use instead:* `np.argmax(model.predict(x), axis=-1)`,   if your model does multi-class classification   (e.g. if it uses a `softmax` last-layer activation).* `(model.predict(x) > 0.5).astype(\"int32\")`,   if your model does binary classification   (e.g. if it uses a `sigmoid` last-layer activation).\n",
            "  warnings.warn('`model.predict_classes()` is deprecated and '\n"
          ],
          "name": "stderr"
        }
      ]
    },
    {
      "cell_type": "code",
      "metadata": {
        "colab": {
          "base_uri": "https://localhost:8080/"
        },
        "id": "a2FX9YukDNoA",
        "outputId": "4259b8df-b0dd-42fb-cb42-c977a9e7cde9"
      },
      "source": [
        "#Predicted Output\n",
        "pred_gru"
      ],
      "execution_count": 25,
      "outputs": [
        {
          "output_type": "execute_result",
          "data": {
            "text/plain": [
              "array([18, 16, 16, ..., 14, 10,  8])"
            ]
          },
          "metadata": {
            "tags": []
          },
          "execution_count": 25
        }
      ]
    },
    {
      "cell_type": "code",
      "metadata": {
        "colab": {
          "base_uri": "https://localhost:8080/",
          "height": 777
        },
        "id": "D1yimhn2r0Rc",
        "outputId": "76d7aad9-e938-4de1-e753-6a1447c1a3a5"
      },
      "source": [
        "#Create confusion matrix for GRU Model\n",
        "import matplotlib.pyplot as plt\n",
        "\n",
        "from sklearn.metrics import confusion_matrix,precision_score\n",
        "cnf_metrics = confusion_matrix(pred_gru,y_test)\n",
        "cnf_metrics\n",
        "\n",
        "#Creating a confusion matrix for the predicted output\n",
        "import seaborn as sns\n",
        "plt.figure(figsize=(20, 15))\n",
        "axis = plt.subplot(111)\n",
        "sns.heatmap(cnf_metrics, ax = axis, cmap = 'Blues', annot = True, square = False, fmt='')\n",
        "\n",
        "#Calculating accuracy based in the confusion matrix for GRU Model\n",
        "#Accuracy is calculated by ratio of all true predictions and total number of images \n",
        "#Trace function is used to calculate sum of all diagonal value (True predictions)\n",
        "gru_accuracy = cnf_metrics.trace()/cnf_metrics.sum()\n",
        "print(\"Accuracy for GRU Model : \", gru_accuracy)\n",
        "\n",
        "#Getting F1 micro score for GRU Model\n",
        "from sklearn.metrics import f1_score\n",
        "gru_f1 = f1_score(pred_gru,y_test, average = 'micro')\n",
        "print(\"F1 score (micro) for GRU Model : \", gru_f1)\n",
        "\n",
        "#Getting F1 macro score for GRU Model \n",
        "from sklearn.metrics import f1_score\n",
        "gru_f1_ma = f1_score(pred_gru,y_test, average = 'macro')\n",
        "print(\"F1 score (macro) for GRU Model : \", gru_f1_ma)\n",
        "\n",
        "gru_precision = precision_score(pred_gru,y_test, average = 'macro')\n",
        "print(\"Precision Score for GRU Model : \", gru_precision)\n"
      ],
      "execution_count": 26,
      "outputs": [
        {
          "output_type": "stream",
          "text": [
            "Accuracy for GRU Model :  0.9072727272727272\n",
            "F1 score (micro) for GRU Model :  0.9072727272727272\n",
            "F1 score (macro) for GRU Model :  0.899191228407145\n",
            "Precision Score for GRU Model :  0.909245490551201\n"
          ],
          "name": "stdout"
        },
        {
          "output_type": "display_data",
          "data": {
            "image/png": "[encoded data removed]",
            "text/plain": [
              "<Figure size 1440x1080 with 2 Axes>"
            ]
          },
          "metadata": {
            "tags": [],
            "needs_background": "light"
          }
        }
      ]
    },
    {
      "cell_type": "code",
      "metadata": {
        "id": "HmR6IHxyJ1UH"
      },
      "source": [
        "# Exporting the predictions of GRU Model\n",
        "gru_prediction_list = []\n",
        "for i in range(len(pred_gru)):\n",
        "  gru_prediction_list.append(languages[pred_gru[i]])\n",
        "prediction_gru = pd.DataFrame(gru_prediction_list)\n",
        "prediction_gru.columns=['Predicted_Language']\n",
        "prediction_gru.to_csv('gru_predictions.csv')"
      ],
      "execution_count": 27,
      "outputs": []
    },
    {
      "cell_type": "code",
      "metadata": {
        "colab": {
          "base_uri": "https://localhost:8080/"
        },
        "id": "GPdmJHZov28Q",
        "outputId": "5caf88e0-0581-4ba8-ae2d-eb8923b18223"
      },
      "source": [
        "#Making Prediction for LSTM Model\n",
        "pred_lstm = model2.predict_classes(X_test)"
      ],
      "execution_count": 28,
      "outputs": [
        {
          "output_type": "stream",
          "text": [
            "/usr/local/lib/python3.7/dist-packages/tensorflow/python/keras/engine/sequential.py:450: UserWarning: `model.predict_classes()` is deprecated and will be removed after 2021-01-01. Please use instead:* `np.argmax(model.predict(x), axis=-1)`,   if your model does multi-class classification   (e.g. if it uses a `softmax` last-layer activation).* `(model.predict(x) > 0.5).astype(\"int32\")`,   if your model does binary classification   (e.g. if it uses a `sigmoid` last-layer activation).\n",
            "  warnings.warn('`model.predict_classes()` is deprecated and '\n"
          ],
          "name": "stderr"
        }
      ]
    },
    {
      "cell_type": "code",
      "metadata": {
        "id": "vIggPKCrwIOq"
      },
      "source": [
        "#Create confusion matrix for LSTM Model\n",
        "import matplotlib.pyplot as plt\n",
        "\n",
        "from sklearn.metrics import confusion_matrix,precision_score\n",
        "cnf_metrics_lstm = confusion_matrix(pred_lstm,y_test)\n",
        "cnf_metrics_lstm\n",
        "\n",
        "#Creating a confusion matrix for the predicted output\n",
        "import seaborn as sns\n",
        "plt.figure(figsize=(20, 15))\n",
        "axis = plt.subplot(111)\n",
        "sns.heatmap(cnf_metrics_lstm, ax = axis, cmap = 'Blues', annot = True, square = False, fmt='')\n",
        "\n",
        "#Calculating accuracy based in the confusion matrix for LSTM Model \n",
        "#Accuracy is calculated by ratio of all true predictions and total number of images \n",
        "#Trace function is used to calculate sum of all diagonal value (True predictions)\n",
        "lstm_accuracy = cnf_metrics_lstm.trace()/cnf_metrics.sum()\n",
        "print(\"Accuracy for LSTM Model : \", lstm_accuracy)\n",
        "\n",
        "#Getting F1 micro score for LSTM Model \n",
        "from sklearn.metrics import f1_score\n",
        "lstm_f1 = f1_score(pred_lstm,y_test, average = 'micro')\n",
        "print(\"F1 score (micro) for LSTM Model : \", lstm_f1)\n",
        "\n",
        "#Getting F1 macro score for LSTM Model\n",
        "from sklearn.metrics import f1_score\n",
        "lstm_f1_ma = f1_score(pred_lstm,y_test, average = 'macro')\n",
        "print(\"F1 score (macro) for LSTM Model : \", lstm_f1_ma)\n",
        "\n",
        "lstm_precision = precision_score(pred_lstm,y_test, average = 'macro')\n",
        "print(\"Precision Score for LSTM Model  : \", lstm_precision)\n"
      ],
      "execution_count": null,
      "outputs": []
    },
    {
      "cell_type": "code",
      "metadata": {
        "id": "jEkJ2mEqxfvo"
      },
      "source": [
        "# Exporting the predictions of LSTM Model\n",
        "lstm_prediction_list = []\n",
        "for i in range(len(pred_gru)):\n",
        "  lstm_prediction_list.append(languages[pred_lstm[i]])\n",
        "prediction_lstm = pd.DataFrame(lstm_prediction_list)\n",
        "prediction_lstm.columns=['Predicted_Language']\n",
        "prediction_lstm.to_csv('lstm_predictions.csv')"
      ],
      "execution_count": 30,
      "outputs": []
    },
    {
      "cell_type": "code",
      "metadata": {
        "id": "afjcM23qOGq_"
      },
      "source": [
        "results = pd.DataFrame({\n",
        "    'State of Art Model': ['RNN w/ GRU Architecture','RNN w/ LSTM Architecture'],\n",
        "    'Accuracy': [gru_accuracy,lstm_accuracy],\n",
        "    'F1-score(micro)': [gru_f1,lstm_f1],\n",
        "    'F1-score(macro)': [gru_f1_ma,lstm_f1_ma],\n",
        "    'Precision-score': [gru_precision,lstm_precision]})\n",
        "results"
      ],
      "execution_count": null,
      "outputs": []
    },
    {
      "cell_type": "code",
      "metadata": {
        "colab": {
          "base_uri": "https://localhost:8080/"
        },
        "id": "h24nsChQNcBc",
        "outputId": "6f13e45e-ccc3-471e-eacd-9bb8f5367a0e"
      },
      "source": [
        "print(\"\"\"State of the Art Model Results for Language Identification Task\"\"\")\n",
        "#Creating a Table to store the above output.\n",
        "\n",
        "from tabulate import tabulate\n",
        "print(tabulate(results,headers=\"keys\",tablefmt=\"fancy_grid\"))"
      ],
      "execution_count": 34,
      "outputs": [
        {
          "output_type": "stream",
          "text": [
            "State of the Art Model Results for Language Identification Task\n",
            "╒════╤══════════════════════════╤════════════╤═══════════════════╤═══════════════════╤═══════════════════╕\n",
            "│    │ State of Art Model       │   Accuracy │   F1-score(micro) │   F1-score(macro) │   Precision-score │\n",
            "╞════╪══════════════════════════╪════════════╪═══════════════════╪═══════════════════╪═══════════════════╡\n",
            "│  0 │ RNN w/ GRU Architecture  │   0.907273 │          0.907273 │          0.899191 │          0.909245 │\n",
            "├────┼──────────────────────────┼────────────┼───────────────────┼───────────────────┼───────────────────┤\n",
            "│  1 │ RNN w/ LSTM Architecture │   0.918182 │          0.918182 │          0.917643 │          0.919846 │\n",
            "╘════╧══════════════════════════╧════════════╧═══════════════════╧═══════════════════╧═══════════════════╛\n"
          ],
          "name": "stdout"
        }
      ]
    },
    {
      "cell_type": "code",
      "metadata": {
        "id": "IU5EMSjRPe-Q"
      },
      "source": [
        ""
      ],
      "execution_count": null,
      "outputs": []
    }
  ]
}